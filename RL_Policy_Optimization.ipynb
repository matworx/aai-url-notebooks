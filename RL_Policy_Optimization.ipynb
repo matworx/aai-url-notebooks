{
 "cells": [
  {
   "cell_type": "markdown",
   "metadata": {},
   "source": [
    "# Reinforcement Learning: Value and Policy Iteration\n",
    "\n",
    "Content:\n",
    "\n",
    "- Frozen Lake Environment\n",
    "- Policies\n",
    "- Value and Policy Iteration"
   ]
  },
  {
   "cell_type": "markdown",
   "metadata": {},
   "source": [
    "## Frozen Lake Introduction\n",
    "- [Frozen Lake](https://gym.openai.com/envs/FrozenLake-v0/) is a simple game where you are on a frozen lake and you need to retrieve an item on the frozen lake where some parts are frozen and some parts are holes (if you walk into them you die)\n",
    "\n",
    "- Actions: $\\mathcal{A} = \\{0, 1, 2, 3\\}$\n",
    "    1. LEFT: 0\n",
    "    2. DOWN = 1\n",
    "    3. RIGHT = 2\n",
    "    4. UP = 3\n",
    "- Whole lake is a 4 x 4 grid world, $\\mathcal{S} = \\{0,1,2,3,4,5,6,7,8,9,10,11,12,13,14,15\\}$\n",
    "\n",
    "- On each grid, there are 4 possibilities\n",
    "\n",
    "    - S: starting point, safe (code = 'SFFF')\n",
    "    - F: frozen surface, safe (code = 'FHFH')\n",
    "    - H: hole, fall to your doom (code = 'FFFH')\n",
    "    - G: goal, where the frisbee is located ('HFFG')\n",
    "\n",
    "### Goal of Frozen Lake\n",
    "The key here is we want to get to **G** without falling into the hole **H** in the shortest amount of time\n",
    "\n",
    "### Why Dynamic Programming?\n",
    "\n",
    "In this game, we know our transition probability function and reward function, essentially the whole environment, allowing us to turn this game into a simple planning problem via dynamic programming through 4 simple functions: (1) policy evaluation (2) policy improvement (3) policy iteration or (4) value iteration\n",
    "\n",
    "Before we explore how to solve this game, let's first understand how the game works in detail."
   ]
  },
  {
   "cell_type": "markdown",
   "metadata": {},
   "source": [
    "### Deterministic Policy Environment"
   ]
  },
  {
   "cell_type": "code",
   "execution_count": 47,
   "metadata": {},
   "outputs": [],
   "source": [
    "# Import gym, installable via `pip install gym`\n",
    "import gymnasium as gym"
   ]
  },
  {
   "cell_type": "code",
   "execution_count": 48,
   "metadata": {},
   "outputs": [],
   "source": [
    "# Make the environment based on deterministic policy\n",
    "env = gym.make('FrozenLake-v1', render_mode=\"ansi\", is_slippery= False)"
   ]
  },
  {
   "cell_type": "code",
   "execution_count": 49,
   "metadata": {},
   "outputs": [
    {
     "name": "stdout",
     "output_type": "stream",
     "text": [
      "Discrete(16)\n"
     ]
    }
   ],
   "source": [
    "# State space\n",
    "print(env.observation_space)"
   ]
  },
  {
   "cell_type": "code",
   "execution_count": 50,
   "metadata": {},
   "outputs": [
    {
     "name": "stdout",
     "output_type": "stream",
     "text": [
      "16\n"
     ]
    }
   ],
   "source": [
    "S_n = env.observation_space.n\n",
    "print(S_n)"
   ]
  },
  {
   "cell_type": "code",
   "execution_count": 51,
   "metadata": {},
   "outputs": [
    {
     "name": "stdout",
     "output_type": "stream",
     "text": [
      "7\n",
      "13\n",
      "4\n",
      "8\n",
      "9\n",
      "10\n",
      "4\n",
      "2\n",
      "1\n",
      "13\n"
     ]
    }
   ],
   "source": [
    "# We should expect to see 15 possible grids from 0 to 15 when\n",
    "# we uniformly randomly sample from our observation space\n",
    "for i in range(10):\n",
    "    print(env.observation_space.sample())"
   ]
  },
  {
   "cell_type": "code",
   "execution_count": 52,
   "metadata": {},
   "outputs": [
    {
     "name": "stdout",
     "output_type": "stream",
     "text": [
      "Discrete(4)\n"
     ]
    }
   ],
   "source": [
    "# Action space\n",
    "print(env.action_space)"
   ]
  },
  {
   "cell_type": "code",
   "execution_count": 53,
   "metadata": {},
   "outputs": [
    {
     "name": "stdout",
     "output_type": "stream",
     "text": [
      "4\n"
     ]
    }
   ],
   "source": [
    "A_n = env.action_space.n\n",
    "print(A_n)"
   ]
  },
  {
   "cell_type": "code",
   "execution_count": 54,
   "metadata": {},
   "outputs": [
    {
     "name": "stdout",
     "output_type": "stream",
     "text": [
      "1\n",
      "1\n",
      "2\n",
      "2\n",
      "3\n",
      "2\n",
      "3\n",
      "0\n",
      "3\n",
      "0\n"
     ]
    }
   ],
   "source": [
    "# We should expect to see 4 actions when\n",
    "# we uniformly randomly sample:\n",
    "#     1. LEFT: 0\n",
    "#     2. DOWN = 1\n",
    "#     3. RIGHT = 2\n",
    "#     4. UP = 3\n",
    "for i in range(10):\n",
    "    print(env.action_space.sample())"
   ]
  },
  {
   "cell_type": "markdown",
   "metadata": {},
   "source": [
    "####  Making Steps"
   ]
  },
  {
   "cell_type": "code",
   "execution_count": 55,
   "metadata": {},
   "outputs": [
    {
     "name": "stdout",
     "output_type": "stream",
     "text": [
      "\n",
      "\u001b[41mS\u001b[0mFFF\n",
      "FHFH\n",
      "FFFH\n",
      "HFFG\n",
      "\n"
     ]
    }
   ],
   "source": [
    "# This sets the initial state at S, our starting point\n",
    "# We can render the environment to see where we are on the 4x4 frozenlake gridworld\n",
    "env.reset()\n",
    "frame = env.render()\n",
    "print(frame)"
   ]
  },
  {
   "cell_type": "code",
   "execution_count": 59,
   "metadata": {},
   "outputs": [
    {
     "name": "stdout",
     "output_type": "stream",
     "text": [
      "  (Down)\n",
      "SFFF\n",
      "\u001b[41mF\u001b[0mHFH\n",
      "FFFH\n",
      "HFFG\n",
      "\n",
      "4 0.0 False False\n"
     ]
    }
   ],
   "source": [
    "# Go left (action=0), nothing should happen, and we should stay at the starting point, because there's no grid on the left\n",
    "env.reset()\n",
    "action = env.action_space.sample()\n",
    "(observation, reward, done, prob,_) = env.step(action)\n",
    "print(env.render())\n",
    "\n",
    "# Observation = 1: move to grid number 1 (unchanged)\n",
    "# Prob = 1: deterministic policy, if we choose to go left, we'll go left\n",
    "print(observation, reward, done, prob)"
   ]
  },
  {
   "cell_type": "code",
   "execution_count": 16,
   "metadata": {},
   "outputs": [
    {
     "name": "stdout",
     "output_type": "stream",
     "text": [
      "  (Down)\n",
      "SFFF\n",
      "\u001b[41mF\u001b[0mHFH\n",
      "FFFH\n",
      "HFFG\n",
      "\n",
      "4 0.0 False False\n"
     ]
    }
   ],
   "source": [
    "# Go down (action = 1), we should be safe as we step on frozen grid\n",
    "env.reset()\n",
    "action = 1\n",
    "(observation, reward, done, prob, _) = env.step(action)\n",
    "print(env.render())\n",
    "\n",
    "# Observation = 4: move to grid number 4\n",
    "# Prob = 1: deterministic policy, if we choose to go down we'll go down\n",
    "print(observation, reward, done, prob)"
   ]
  },
  {
   "cell_type": "code",
   "execution_count": 60,
   "metadata": {},
   "outputs": [
    {
     "name": "stdout",
     "output_type": "stream",
     "text": [
      "  (Right)\n",
      "S\u001b[41mF\u001b[0mFF\n",
      "FHFH\n",
      "FFFH\n",
      "HFFG\n",
      "\n",
      "1 0.0 False {'prob': 1.0}\n"
     ]
    }
   ],
   "source": [
    "# Go right (action = 2), we should be safe as we step on frozen grid\n",
    "env.reset()\n",
    "action = 2\n",
    "(observation, reward, done, _, prob) = env.step(action)\n",
    "print(env.render())\n",
    "\n",
    "# Observation = 1: move to grid number 1\n",
    "# Prob = 1: deterministic policy, if we choose to go right we'll go right\n",
    "print(observation, reward, done, prob)"
   ]
  },
  {
   "cell_type": "code",
   "execution_count": 26,
   "metadata": {},
   "outputs": [
    {
     "name": "stdout",
     "output_type": "stream",
     "text": [
      "2 0.0 False {'prob': 1.0}\n"
     ]
    }
   ],
   "source": [
    "# Go right twice (action = 2), we should be safe as we step on 2 frozen grids\n",
    "env.reset()\n",
    "action = 2\n",
    "(observation, reward, done, _, prob) = env.step(action)\n",
    "env.render()\n",
    "(observation, reward, done, _, prob) = env.step(action)\n",
    "env.render()\n",
    "\n",
    "# Observation = 2: move to the right twice from grid 0 to grid 2\n",
    "# Prob = 1: deterministic policy, if we choose to go right twice we'll go right twice\n",
    "print(observation, reward, done, prob)"
   ]
  },
  {
   "cell_type": "markdown",
   "metadata": {},
   "source": [
    "#### Dying: drop in hole grid 12,  H"
   ]
  },
  {
   "cell_type": "code",
   "execution_count": 62,
   "metadata": {},
   "outputs": [
    {
     "name": "stdout",
     "output_type": "stream",
     "text": [
      "  (Down)\n",
      "SFFF\n",
      "FHFH\n",
      "FFFH\n",
      "\u001b[41mH\u001b[0mFFG\n",
      "\n",
      "12 0.0 True {'prob': 1.0}\n"
     ]
    }
   ],
   "source": [
    "# Go down thrice (action = 1), we will die as we step onto the grid with a hole\n",
    "env.reset()\n",
    "action = 1\n",
    "(observation, reward, done, _, prob) = env.step(action)\n",
    "env.render()\n",
    "(observation, reward, done, _, prob) = env.step(action)\n",
    "env.render()\n",
    "(observation, reward, done, _, prob) = env.step(action)\n",
    "print(env.render())\n",
    "\n",
    "# Observation = 12: move to the right twice from grid 0 to grid 2\n",
    "# Prob = 1: deterministic policy, if we choose to go right twice we'll go right twice\n",
    "# Done = True because the game ends when we die (go onto hole grid (H) or finish the game (G))\n",
    "print(observation, reward, done, prob)"
   ]
  },
  {
   "cell_type": "markdown",
   "metadata": {},
   "source": [
    "#### Winning: get to grid 15, G"
   ]
  },
  {
   "cell_type": "code",
   "execution_count": 63,
   "metadata": {},
   "outputs": [
    {
     "name": "stdout",
     "output_type": "stream",
     "text": [
      "15 1.0 True {'prob': 1.0}\n"
     ]
    }
   ],
   "source": [
    "# Go right twice (action = 2), go down thrice (action = 1), go right once (action = 2)\n",
    "env.reset()\n",
    "\n",
    "# Right Twice\n",
    "action = 2\n",
    "(observation, reward, done, _, prob) = env.step(action)\n",
    "env.render()\n",
    "(observation, reward, done, _, prob) = env.step(action)\n",
    "env.render()\n",
    "\n",
    "# Down three times\n",
    "action = 1\n",
    "(observation, reward, done, _, prob) = env.step(action)\n",
    "env.render()\n",
    "(observation, reward, done, _, prob) = env.step(action)\n",
    "env.render()\n",
    "(observation, reward, done, _, prob) = env.step(action)\n",
    "env.render()\n",
    "\n",
    "# Right Once\n",
    "action = 2\n",
    "(observation, reward, done, _, prob) = env.step(action)\n",
    "env.render()\n",
    "\n",
    "# Observation = 2: move to the right twice from grid 0 to grid 2\n",
    "# Prob = 1: deterministic policy, if we choose to go right twice we'll go right twice\n",
    "# Done = True because the game ends when we die (go onto hole grid (H) or finish the game (G))\n",
    "print(observation, reward, done, prob)"
   ]
  },
  {
   "cell_type": "markdown",
   "metadata": {},
   "source": [
    "## Policies"
   ]
  },
  {
   "cell_type": "markdown",
   "metadata": {},
   "source": [
    "### Deterministic Policy\n",
    "\n",
    "There's no probability distribution, if you decide to go right you'll go right"
   ]
  },
  {
   "cell_type": "code",
   "execution_count": 29,
   "metadata": {},
   "outputs": [],
   "source": [
    "# Make the environment based on deterministic policy (is_slippery=False)\n",
    "env = gym.make('FrozenLake-v1', is_slippery=False, render_mode=\"ansi\")"
   ]
  },
  {
   "cell_type": "code",
   "execution_count": 30,
   "metadata": {},
   "outputs": [
    {
     "name": "stdout",
     "output_type": "stream",
     "text": [
      "\n",
      "\u001b[41mS\u001b[0mFFF\n",
      "FHFH\n",
      "FFFH\n",
      "HFFG\n",
      "\n",
      "  (Right)\n",
      "S\u001b[41mF\u001b[0mFF\n",
      "FHFH\n",
      "FFFH\n",
      "HFFG\n",
      "\n",
      "1 0.0 False False {'prob': 1.0}\n"
     ]
    }
   ],
   "source": [
    "# Go right once (action = 2), we should go to the right but we did not!\n",
    "env.reset()\n",
    "print(env.render())\n",
    "action = 2\n",
    "(observation, reward, done, info, prob) = env.step(action)\n",
    "print(env.render())\n",
    "\n",
    "# Observation = 0: move to the right once from grid 0 to grid 1\n",
    "# Prob = 1: deterministic policy, if we choose to go right, we will go right\n",
    "print(observation, reward, done, info, prob)"
   ]
  },
  {
   "cell_type": "markdown",
   "metadata": {},
   "source": [
    "Hence in this example, given `current_state = 8` and `action = 0` which is left, we will end up with `probability = 1` in `new_state = 9`"
   ]
  },
  {
   "cell_type": "code",
   "execution_count": 31,
   "metadata": {},
   "outputs": [
    {
     "name": "stdout",
     "output_type": "stream",
     "text": [
      "Probability 1.0, New State 9\n"
     ]
    },
    {
     "name": "stderr",
     "output_type": "stream",
     "text": [
      "/Users/tima268/Library/Python/3.9/lib/python/site-packages/gymnasium/core.py:311: UserWarning: \u001b[33mWARN: env.P to get variables from other wrappers is deprecated and will be removed in v1.0, to get this variable you can do `env.unwrapped.P` for environment variables or `env.get_wrapper_attr('P')` that will search the reminding wrappers.\u001b[0m\n",
      "  logger.warn(\n"
     ]
    }
   ],
   "source": [
    "# Deterministic\n",
    "env = gym.make('FrozenLake-v1', is_slippery=False, render_mode=\"ansi\")\n",
    "\n",
    "current_state = 10  # State from S_n=16 State space\n",
    "action = 0          # Left action from A_n=4 Action space\n",
    "[(probability, new_state, reward, done)] = env.P[current_state][action]\n",
    "\n",
    "print('Probability {}, New State {}'.format(probability, new_state))"
   ]
  },
  {
   "cell_type": "markdown",
   "metadata": {},
   "source": [
    "Try to go to the right 10 times, let's see how many times it goes to the right, by right we won't die because we would end up at the extreme right of grid 3"
   ]
  },
  {
   "cell_type": "code",
   "execution_count": 32,
   "metadata": {},
   "outputs": [
    {
     "name": "stdout",
     "output_type": "stream",
     "text": [
      "  (Right)\n",
      "S\u001b[41mF\u001b[0mFF\n",
      "FHFH\n",
      "FFFH\n",
      "HFFG\n",
      "\n",
      "  (Right)\n",
      "SF\u001b[41mF\u001b[0mF\n",
      "FHFH\n",
      "FFFH\n",
      "HFFG\n",
      "\n",
      "  (Right)\n",
      "SFF\u001b[41mF\u001b[0m\n",
      "FHFH\n",
      "FFFH\n",
      "HFFG\n",
      "\n",
      "  (Right)\n",
      "SFF\u001b[41mF\u001b[0m\n",
      "FHFH\n",
      "FFFH\n",
      "HFFG\n",
      "\n",
      "  (Right)\n",
      "SFF\u001b[41mF\u001b[0m\n",
      "FHFH\n",
      "FFFH\n",
      "HFFG\n",
      "\n",
      "  (Right)\n",
      "SFF\u001b[41mF\u001b[0m\n",
      "FHFH\n",
      "FFFH\n",
      "HFFG\n",
      "\n",
      "  (Right)\n",
      "SFF\u001b[41mF\u001b[0m\n",
      "FHFH\n",
      "FFFH\n",
      "HFFG\n",
      "\n",
      "  (Right)\n",
      "SFF\u001b[41mF\u001b[0m\n",
      "FHFH\n",
      "FFFH\n",
      "HFFG\n",
      "\n",
      "  (Right)\n",
      "SFF\u001b[41mF\u001b[0m\n",
      "FHFH\n",
      "FFFH\n",
      "HFFG\n",
      "\n",
      "  (Right)\n",
      "SFF\u001b[41mF\u001b[0m\n",
      "FHFH\n",
      "FFFH\n",
      "HFFG\n",
      "\n"
     ]
    }
   ],
   "source": [
    "# Deterministic\n",
    "env.reset()\n",
    "for i in range(10):\n",
    "    action = 2\n",
    "    (observation, reward, done,_, prob) = env.step(action)\n",
    "    print(env.render())"
   ]
  },
  {
   "cell_type": "markdown",
   "metadata": {},
   "source": [
    "### Stochastic Policy\n",
    "\n",
    "Now, there is a probability distribution, a **non-deterministic policy**.\n",
    "\n",
    "Go right once, we should go to the right but we did not: Probability is 1/3 - non-deterministic policy!\n",
    "\n",
    "If we choose to go right, there's only a 1/3 probability we would go to the right!\n"
   ]
  },
  {
   "cell_type": "markdown",
   "metadata": {},
   "source": [
    "Given $S_t = 10, A_t = 0$ in a stochastic environment, the transition probability functions indicate you can end up in grid 6, 9, 14 each with 1/3 probability:\n",
    "\n",
    "- $\\mathbb{P} [S_{t+1} = 6 \\vert S_t = 10, A_t = 0] = \\frac{1}{3}$\n",
    "- $\\mathbb{P} [S_{t+1} = 9 \\vert S_t = 10, A_t = 0] = \\frac{1}{3}$\n",
    "- $\\mathbb{P} [S_{t+1} = 14 \\vert S_t = 10, A_t = 0] = \\frac{1}{3}$"
   ]
  },
  {
   "cell_type": "code",
   "execution_count": 33,
   "metadata": {},
   "outputs": [
    {
     "data": {
      "text/plain": [
       "[(0.3333333333333333, 6, 0.0, False),\n",
       " (0.3333333333333333, 9, 0.0, False),\n",
       " (0.3333333333333333, 14, 0.0, False)]"
      ]
     },
     "execution_count": 33,
     "metadata": {},
     "output_type": "execute_result"
    }
   ],
   "source": [
    "# Stochastic\n",
    "env = gym.make('FrozenLake-v1', is_slippery=True, render_mode=\"ansi\")\n",
    "\n",
    "current_state = 10  # State from S_n=16 State space\n",
    "action = 0  # Left action from A_n=4 Action space\n",
    "env.P[current_state][action]"
   ]
  },
  {
   "cell_type": "code",
   "execution_count": 34,
   "metadata": {},
   "outputs": [
    {
     "name": "stdout",
     "output_type": "stream",
     "text": [
      "\n",
      "\u001b[41mS\u001b[0mFFF\n",
      "FHFH\n",
      "FFFH\n",
      "HFFG\n",
      "\n",
      "  (Right)\n",
      "\u001b[41mS\u001b[0mFFF\n",
      "FHFH\n",
      "FFFH\n",
      "HFFG\n",
      "\n",
      "0 0.0 False False {'prob': 0.3333333333333333}\n"
     ]
    }
   ],
   "source": [
    "# Go right once (action = 2), we should go to the right but we did not!\n",
    "env.reset()\n",
    "print(env.render())\n",
    "action = 2\n",
    "(observation, reward, done, info, prob) = env.step(action)\n",
    "print(env.render())\n",
    "\n",
    "# Observation = 0: move to the right once from grid 0 to grid 1\n",
    "# Prob = 1: deterministic policy, if we choose to go right, we will go right\n",
    "print(observation, reward, done, info, prob)"
   ]
  },
  {
   "cell_type": "code",
   "execution_count": 35,
   "metadata": {},
   "outputs": [
    {
     "name": "stdout",
     "output_type": "stream",
     "text": [
      "  (Right)\n",
      "SFFF\n",
      "\u001b[41mF\u001b[0mHFH\n",
      "FFFH\n",
      "HFFG\n",
      "\n",
      "  (Right)\n",
      "SFFF\n",
      "F\u001b[41mH\u001b[0mFH\n",
      "FFFH\n",
      "HFFG\n",
      "\n",
      "  (Right)\n",
      "SFFF\n",
      "F\u001b[41mH\u001b[0mFH\n",
      "FFFH\n",
      "HFFG\n",
      "\n"
     ]
    }
   ],
   "source": [
    "# Stochastic\n",
    "env.reset()\n",
    "for i in range(3):\n",
    "    action = 2\n",
    "    (observation, reward, done,_, prob) = env.step(action)\n",
    "    print(env.render())"
   ]
  },
  {
   "cell_type": "markdown",
   "metadata": {},
   "source": [
    "## Policy Evaluation"
   ]
  },
  {
   "cell_type": "markdown",
   "metadata": {},
   "source": [
    "### Transition Probability Function\n",
    "- $\\mathcal{P}_{ss'}^a = \\mathcal{P}(s' \\vert s, a)  = \\mathbb{P} [S_{t+1} = s' \\vert S_t = s, A_t = a]$"
   ]
  },
  {
   "cell_type": "markdown",
   "metadata": {},
   "source": [
    "### Random Policy Function"
   ]
  },
  {
   "cell_type": "code",
   "execution_count": 36,
   "metadata": {
    "scrolled": true
   },
   "outputs": [
    {
     "name": "stdout",
     "output_type": "stream",
     "text": [
      "(16, 4)\n"
     ]
    }
   ],
   "source": [
    "import numpy as np\n",
    "\n",
    "# Random policy generation\n",
    "def generate_random_policy(S_n, A_n):\n",
    "    return np.ones([S_n, A_n]) / A_n\n",
    "\n",
    "# Given the total number of states S_n = 16\n",
    "# For each state out of 16 states, we can take 4 actions\n",
    "# Since this is a stochastic environment, we'll initialize a policy to have equal probabilities 0.25 of doing each action each state\n",
    "policy = generate_random_policy(S_n, A_n)\n",
    "print(policy.shape)"
   ]
  },
  {
   "cell_type": "code",
   "execution_count": 37,
   "metadata": {},
   "outputs": [
    {
     "data": {
      "image/png": "[encoded data removed]",
      "text/plain": [
       "<Figure size 500x1600 with 1 Axes>"
      ]
     },
     "metadata": {},
     "output_type": "display_data"
    }
   ],
   "source": [
    "import seaborn as sns\n",
    "import matplotlib.pyplot as plt\n",
    "%matplotlib inline\n",
    "plt.figure(figsize=(5, 16))\n",
    "sns.heatmap(policy,  cmap=\"YlGnBu\", annot=True, cbar=False);"
   ]
  },
  {
   "cell_type": "markdown",
   "metadata": {},
   "source": [
    "### Policy Evaluation using State-value Function\n",
    "\n",
    "How: $\\mathcal{V}_{\\pi}(s) = \\sum_{a \\in \\mathcal{A}} \\pi(a | s) \\sum_{s' \\in \\mathcal{S}}  \\mathcal{P}_{ss'}^a \\big[\\mathcal{R}_s^a + \\gamma  {V}_{\\pi}(s')\\big]$\n",
    "\n",
    "Simple code equation:\n",
    "\n",
    "- Values of state given policy = sum ( action probability \\* transition probability \\* [reward + discount \\* value of new state] )\n",
    "\n",
    "- **Aim: getting state-values**"
   ]
  },
  {
   "cell_type": "code",
   "execution_count": 38,
   "metadata": {},
   "outputs": [],
   "source": [
    "import numpy as np\n",
    "\n",
    "def policy_evaluation(env, policy, gamma=1., theta=1e-8):\n",
    "    r\"\"\"Policy evaluation function. Loop until state values stable, delta < theta.\n",
    "    \n",
    "    Returns V comprising values of states under given policy.\n",
    "    \n",
    "    Args:\n",
    "        env (gym.env): OpenAI environment class instantiated and assigned to an object.\n",
    "        policy (np.array): policy array to evaluate\n",
    "        gamma (float): discount rate for rewards\n",
    "        theta (float): tiny positive number, anything below it indicates value function convergence\n",
    "    \"\"\"\n",
    "    # 1. Create state-value array (16,)\n",
    "    V = np.zeros(S_n)\n",
    "    while True:\n",
    "        delta = 0\n",
    "        \n",
    "        # 2. Loop through states\n",
    "        for s in range(S_n):\n",
    "            Vs = 0\n",
    "            \n",
    "            # 2.1 Loop through actions for the unique state\n",
    "            # Given each state, we've 4 actions associated with different probabilities\n",
    "            # 0.25 x 4 in this case, so we'll be looping 4 times (4 action probabilities) at each state\n",
    "            for a, action_prob in enumerate(policy[s]):\n",
    "                # 2.1.1 Loop through to get transition probabilities, next state, rewards and whether the game ended\n",
    "                for prob, next_state, reward, done in env.P[s][a]:\n",
    "                    # State-value function to get our values of states given policy\n",
    "                    Vs += action_prob * prob * (reward + gamma * V[next_state])\n",
    "                    \n",
    "            # This simple equation allows us to stop this loop when we've converged\n",
    "            # How do we know? The new value of the state is smaller than a tiny positive value we set\n",
    "            # State value change is tiny compared to what we have so we just stop!\n",
    "            delta = max(delta, np.abs(V[s]-Vs))\n",
    "            \n",
    "            # 2.2 Update our state value for that state\n",
    "            V[s] = Vs\n",
    "            \n",
    "        # 3. Stop policy evaluation if our state values changes are smaller than our tiny positive number\n",
    "        if delta < theta:\n",
    "            break\n",
    "    \n",
    "    return V"
   ]
  },
  {
   "cell_type": "code",
   "execution_count": 39,
   "metadata": {},
   "outputs": [
    {
     "name": "stderr",
     "output_type": "stream",
     "text": [
      "/Users/tima268/Library/Python/3.9/lib/python/site-packages/gymnasium/core.py:311: UserWarning: \u001b[33mWARN: env.P to get variables from other wrappers is deprecated and will be removed in v1.0, to get this variable you can do `env.unwrapped.P` for environment variables or `env.get_wrapper_attr('P')` that will search the reminding wrappers.\u001b[0m\n",
      "  logger.warn(\n"
     ]
    }
   ],
   "source": [
    "# Generate random policy with equal probabilities of each action given any state\n",
    "rand_policy = generate_random_policy(S_n, A_n)\n",
    "\n",
    "# Evaluate the policy to get state values\n",
    "V = policy_evaluation(env, rand_policy)"
   ]
  },
  {
   "cell_type": "code",
   "execution_count": 40,
   "metadata": {},
   "outputs": [
    {
     "data": {
      "image/png": "[encoded data removed]",
      "text/plain": [
       "<Figure size 800x800 with 1 Axes>"
      ]
     },
     "metadata": {},
     "output_type": "display_data"
    }
   ],
   "source": [
    "# Plot heatmap\n",
    "plt.figure(figsize=(8, 8))\n",
    "sns.heatmap(V.reshape(4, 4),  cmap=\"YlGnBu\", annot=True, cbar=False);"
   ]
  },
  {
   "cell_type": "code",
   "execution_count": 41,
   "metadata": {},
   "outputs": [
    {
     "name": "stdout",
     "output_type": "stream",
     "text": [
      "\n",
      "\u001b[41mS\u001b[0mFFF\n",
      "FHFH\n",
      "FFFH\n",
      "HFFG\n",
      "\n"
     ]
    }
   ],
   "source": [
    "# This is our environment\n",
    "# Notice how the state values near the goal have higher values?\n",
    "# Those with \"H\" = hole, where you die if you step, have 0 values indicating those are bad areas to be in\n",
    "env.reset()\n",
    "print(env.render())"
   ]
  },
  {
   "cell_type": "markdown",
   "metadata": {},
   "source": [
    "### Action-value (Q-value) function from State-value function\n",
    "\n",
    "How: $\\mathcal{Q}_{\\pi}(s, a) = \\sum_{s' \\in \\mathcal{S}} \\mathcal{P}_{ss'}^a \\big[ \\mathcal{R}_s^a + \\gamma  \\mathcal{V}_{\\pi}(s') \\big]$\n",
    "\n",
    "Code equation: Values of action = sum ( transition probability \\* [reward + discount \\* value of next state] )\n",
    "\n",
    "**Aim: getting q-values (action-values)**"
   ]
  },
  {
   "cell_type": "code",
   "execution_count": 42,
   "metadata": {},
   "outputs": [],
   "source": [
    "def q_value(env, V, s, gamma=1):\n",
    "    r\"\"\"Q-value (action-value) function from state-value function\n",
    "    \n",
    "    Returns Q values, values of actions.\n",
    "    \n",
    "    Args:\n",
    "        env (gym.env): OpenAI environment class instantiated and assigned to an object.\n",
    "        V (np.array): array of state-values obtained from policy evaluation function.\n",
    "        s (integer): integer representing current state in the gridworld\n",
    "        gamma (float): discount rate for rewards.\n",
    "    \"\"\"\n",
    "    # 1. Create q-value array for one state\n",
    "    # We have 4 actions, so let's create an array with the size of 4\n",
    "    q = np.zeros(A_n)\n",
    "    \n",
    "    # 2. Loop through each action\n",
    "    for a in range(A_n):\n",
    "        # 2.1 For each action, we've our transition probabilities, next state, rewards and whether the game ended\n",
    "        for prob, next_state, reward, done in env.P[s][a]:\n",
    "            # 2.1.1 Get our action-values from state-values\n",
    "            q[a] += prob * (reward + gamma * V[next_state])\n",
    "            \n",
    "    # Return action values\n",
    "    return q"
   ]
  },
  {
   "cell_type": "code",
   "execution_count": 43,
   "metadata": {},
   "outputs": [
    {
     "name": "stderr",
     "output_type": "stream",
     "text": [
      "/Users/tima268/Library/Python/3.9/lib/python/site-packages/gymnasium/core.py:311: UserWarning: \u001b[33mWARN: env.P to get variables from other wrappers is deprecated and will be removed in v1.0, to get this variable you can do `env.unwrapped.P` for environment variables or `env.get_wrapper_attr('P')` that will search the reminding wrappers.\u001b[0m\n",
      "  logger.warn(\n"
     ]
    }
   ],
   "source": [
    "# For every state, we've 4 actions, hence we've 16 x 4 q values\n",
    "Q = np.zeros([S_n, A_n])\n",
    "\n",
    "# Loop through each state out of 16\n",
    "# For each state, we will get the 4 q-values associated with the 4 actions\n",
    "for s in range(S_n):\n",
    "    Q[s] = q_value(env, V, s)"
   ]
  },
  {
   "cell_type": "code",
   "execution_count": 44,
   "metadata": {},
   "outputs": [
    {
     "data": {
      "image/png": "[encoded data removed]",
      "text/plain": [
       "<Figure size 500x1600 with 1 Axes>"
      ]
     },
     "metadata": {},
     "output_type": "display_data"
    }
   ],
   "source": [
    "plt.figure(figsize=(5, 16))\n",
    "sns.heatmap(Q,  cmap=\"YlGnBu\", annot=True, cbar=False);"
   ]
  },
  {
   "cell_type": "code",
   "execution_count": 45,
   "metadata": {
    "scrolled": true
   },
   "outputs": [
    {
     "name": "stdout",
     "output_type": "stream",
     "text": [
      "\n",
      "\u001b[41mS\u001b[0mFFF\n",
      "FHFH\n",
      "FFFH\n",
      "HFFG\n",
      "\n"
     ]
    }
   ],
   "source": [
    "# Notice how 13/14, those in the last row of the gridworld just before reaching the goal of finishing the game, \n",
    "# their action values are large?\n",
    "print(env.render())"
   ]
  },
  {
   "cell_type": "markdown",
   "metadata": {},
   "source": [
    "## Policy Improvement"
   ]
  },
  {
   "cell_type": "markdown",
   "metadata": {},
   "source": [
    "### Policy Improvement Function\n",
    "- How: maximizing q-values per state by choosing actions with highest q-values\n",
    "- Aim: get improved policy"
   ]
  },
  {
   "cell_type": "code",
   "execution_count": 84,
   "metadata": {},
   "outputs": [],
   "source": [
    "def policy_improvement(env, V, gamma=1.):\n",
    "    r\"\"\"Function to improve the policy by utilizing state values and action (q) values.\n",
    "    \n",
    "    Args:\n",
    "        env (gym.env): OpenAI environment class instantiated and assigned to an objects\n",
    "        V (np.array): array of state-values obtained from policy evaluation function\n",
    "        gamma (float): discount of rewards\n",
    "    \"\"\"\n",
    "    # 1. Blank policy\n",
    "    policy = np.zeros([env.observation_space.n, env.action_space.n]) / env.action_space.n\n",
    "    \n",
    "    # 2. For each state in 16 states\n",
    "    for s in range(env.observation_space.n):\n",
    "        \n",
    "        # 2.1 Get q values: q.shape returns (4,)\n",
    "        q = q_value(env, V, s, gamma)\n",
    "        \n",
    "        # 2.2 Find best action based on max q-value\n",
    "        # np.argwhere(q==np.max(q)) gives the position of largest q value\n",
    "        # given array([0.00852356, 0.01163091, 0.0108613 , 0.01550788]), this would return array([[3]]) of shape (1, 1)\n",
    "        # .flatten() reduces the shape to (1,) where we've array([3])\n",
    "        best_a = np.argwhere(q==np.max(q)).flatten()\n",
    "        \n",
    "        # 2.3 One-hot encode best action and store into policy array's row for that state\n",
    "        # In our case where the best action is array([3]), this would return\n",
    "        # array([0., 0., 0., 1.]) where position 3 is the best action\n",
    "        # Now we can store the best action into our policy\n",
    "        policy[s] = np.sum([np.eye(env.action_space.n)[i] for i in best_a], axis=0)/len(best_a)\n",
    "        \n",
    "    return policy"
   ]
  },
  {
   "cell_type": "code",
   "execution_count": 85,
   "metadata": {},
   "outputs": [],
   "source": [
    "new_policy = policy_improvement(env, V)"
   ]
  },
  {
   "cell_type": "code",
   "execution_count": 86,
   "metadata": {},
   "outputs": [
    {
     "data": {
      "image/png": "[encoded data removed]",
      "text/plain": [
       "<Figure size 360x1152 with 1 Axes>"
      ]
     },
     "metadata": {
      "needs_background": "light"
     },
     "output_type": "display_data"
    }
   ],
   "source": [
    "plt.figure(figsize=(5, 16))\n",
    "sns.heatmap(new_policy,  cmap=\"YlGnBu\", annot=True, cbar=False);"
   ]
  },
  {
   "cell_type": "code",
   "execution_count": 87,
   "metadata": {},
   "outputs": [
    {
     "data": {
      "image/png": "[encoded data removed]",
      "text/plain": [
       "<Figure size 360x1152 with 1 Axes>"
      ]
     },
     "metadata": {
      "needs_background": "light"
     },
     "output_type": "display_data"
    }
   ],
   "source": [
    "# Compared to this equiprobable policy, the one above is making some improvements by maximizing q-values per state\n",
    "plt.figure(figsize=(5, 16))\n",
    "sns.heatmap(rand_policy,  cmap=\"YlGnBu\", annot=True, cbar=False);"
   ]
  },
  {
   "cell_type": "markdown",
   "metadata": {},
   "source": [
    "### Policy Iteration Function\n",
    "- How: loop through policy evaluation (get state-values) and policy improvement functions (use state-values to calculate q-values to improve policy) until optimal policy obtained\n",
    "- Aim: improve policy until convergence\n",
    "    - Convergence: difference of state values between old and new policies is very small (less than theta, a very small positive number)"
   ]
  },
  {
   "cell_type": "code",
   "execution_count": 88,
   "metadata": {},
   "outputs": [],
   "source": [
    "import copy\n",
    "def policy_iteration(env, gamma=1, theta=1e-8):\n",
    "    # 1. Create equiprobable policy where every state has 4 actions with equal probabilities as a starting policy\n",
    "    policy = np.ones([env.observation_space.n, env.action_space.n]) / env.action_space.n\n",
    "    \n",
    "    # 2. Loop through policy_evaluation and policy_improvement functions\n",
    "    while True:\n",
    "        # 2.1 Get state-values\n",
    "        V = policy_evaluation(env, policy, gamma, theta)\n",
    "        \n",
    "        # 2.2 Get new policy by getting q-values and maximizing q-values per state to get best action per state\n",
    "        new_policy = policy_improvement(env, V)\n",
    "\n",
    "        # 2.3 Stop if the value function estimates for successive policies has converged\n",
    "        if np.max(abs(policy_evaluation(env, policy) - policy_evaluation(env, new_policy))) < theta * 1e2:\n",
    "            break;\n",
    "        \n",
    "        # 2.4 Replace policy with new policy\n",
    "        policy = copy.copy(new_policy)\n",
    "    return policy, V"
   ]
  },
  {
   "cell_type": "code",
   "execution_count": 89,
   "metadata": {},
   "outputs": [],
   "source": [
    "# obtain the optimal policy and optimal state-value function\n",
    "policy_pi, V_pi = policy_iteration(env)"
   ]
  },
  {
   "cell_type": "code",
   "execution_count": 90,
   "metadata": {},
   "outputs": [
    {
     "data": {
      "image/png": "[encoded data removed]",
      "text/plain": [
       "<Figure size 360x1152 with 1 Axes>"
      ]
     },
     "metadata": {
      "needs_background": "light"
     },
     "output_type": "display_data"
    }
   ],
   "source": [
    "# Optimal policy (pi) \n",
    "# LEFT = 0, DOWN = 1, RIGHT = 2, UP = 3\n",
    "plt.figure(figsize=(5, 16))\n",
    "sns.heatmap(policy_pi,  cmap=\"YlGnBu\", annot=True, cbar=False, square=True);"
   ]
  },
  {
   "cell_type": "code",
   "execution_count": 91,
   "metadata": {},
   "outputs": [
    {
     "data": {
      "image/png": "[encoded data removed]",
      "text/plain": [
       "<Figure size 576x576 with 1 Axes>"
      ]
     },
     "metadata": {
      "needs_background": "light"
     },
     "output_type": "display_data"
    }
   ],
   "source": [
    "# State values\n",
    "plt.figure(figsize=(8, 8))\n",
    "sns.heatmap(V_pi.reshape(4, 4),  cmap=\"YlGnBu\", annot=True, cbar=False, square=True);"
   ]
  },
  {
   "cell_type": "code",
   "execution_count": 92,
   "metadata": {},
   "outputs": [
    {
     "data": {
      "image/png": "[encoded data removed]",
      "text/plain": [
       "<Figure size 576x576 with 1 Axes>"
      ]
     },
     "metadata": {
      "needs_background": "light"
     },
     "output_type": "display_data"
    }
   ],
   "source": [
    "# State values without policy improvement, just evaluation\n",
    "plt.figure(figsize=(8, 8))\n",
    "sns.heatmap(V.reshape(4, 4),  cmap=\"YlGnBu\", annot=True, cbar=False);"
   ]
  },
  {
   "cell_type": "markdown",
   "metadata": {},
   "source": [
    "### Value iteration\n",
    "- Alternative to policy iteration\n",
    "- How: loop through to find optimal value function then get one-off policy\n",
    "- Aim: improve value function until convergence\n",
    "    - Convergence: until difference in new and old state values are small (smaller than theta, small positive number)"
   ]
  },
  {
   "cell_type": "code",
   "execution_count": 93,
   "metadata": {},
   "outputs": [],
   "source": [
    "def value_iteration(env, gamma=1, theta=1e-8):\n",
    "    # 1. Create state values of shape (16,)\n",
    "    V = np.zeros(env.observation_space.n)\n",
    "    \n",
    "    # 2. Loop through q-value function until convergence\n",
    "    while True:\n",
    "        delta = 0\n",
    "        \n",
    "        # 2.1 Loop through each state\n",
    "        for s in range(env.observation_space.n):\n",
    "            # 2.2 Archive old state value\n",
    "            v = V[s]\n",
    "            \n",
    "            # 2.3 New state value = max of q-value\n",
    "            V[s] = max(q_value(env, V, s, gamma))\n",
    "            \n",
    "            delta = max(delta, abs(V[s] - v))\n",
    "        \n",
    "        # 2.2 If state value changes small, converged\n",
    "        if delta < theta:\n",
    "            break\n",
    "            \n",
    "    # 3. Extract one-off policy with optimal state values\n",
    "    policy = policy_improvement(env, V, gamma)\n",
    "    \n",
    "    return policy, V"
   ]
  },
  {
   "cell_type": "code",
   "execution_count": 94,
   "metadata": {},
   "outputs": [],
   "source": [
    "policy_vi, V_vi = value_iteration(env)"
   ]
  },
  {
   "cell_type": "code",
   "execution_count": 95,
   "metadata": {},
   "outputs": [
    {
     "data": {
      "image/png": "[encoded data removed]",
      "text/plain": [
       "<Figure size 360x1152 with 1 Axes>"
      ]
     },
     "metadata": {
      "needs_background": "light"
     },
     "output_type": "display_data"
    }
   ],
   "source": [
    "# Optimal policy\n",
    "# LEFT = 0, DOWN = 1, RIGHT = 2, UP = 3\n",
    "plt.figure(figsize=(5, 16))\n",
    "sns.heatmap(policy_vi,  cmap=\"YlGnBu\", annot=True, cbar=False, square=True);"
   ]
  },
  {
   "cell_type": "code",
   "execution_count": 96,
   "metadata": {},
   "outputs": [
    {
     "data": {
      "image/png": "[encoded data removed]",
      "text/plain": [
       "<Figure size 576x576 with 1 Axes>"
      ]
     },
     "metadata": {
      "needs_background": "light"
     },
     "output_type": "display_data"
    }
   ],
   "source": [
    "# State values\n",
    "plt.figure(figsize=(8, 8))\n",
    "sns.heatmap(V_vi.reshape(4, 4),  cmap=\"YlGnBu\", annot=True, cbar=False, square=True);"
   ]
  },
  {
   "cell_type": "code",
   "execution_count": null,
   "metadata": {},
   "outputs": [],
   "source": []
  }
 ],
 "metadata": {
  "kernelspec": {
   "display_name": "Python 3 (ipykernel)",
   "language": "python",
   "name": "python3"
  },
  "language_info": {
   "codemirror_mode": {
    "name": "ipython",
    "version": 3
   },
   "file_extension": ".py",
   "mimetype": "text/x-python",
   "name": "python",
   "nbconvert_exporter": "python",
   "pygments_lexer": "ipython3",
   "version": "3.9.6"
  }
 },
 "nbformat": 4,
 "nbformat_minor": 4
}
