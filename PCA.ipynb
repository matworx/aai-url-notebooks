{
 "cells": [
  {
   "cell_type": "markdown",
   "id": "a5be811e",
   "metadata": {},
   "source": [
    "# Principal Component Analysis\n",
    "\n",
    "Principal Component Analysis (PCA) is an exploratory approach to reduce the data set's dimensionality to 2D or 3D, used in exploratory data analysis for making predictive models.\n",
    "\n",
    "Principal Component Analysis is a linear transformation of data set that defines a new coordinate rule such that:\n",
    "\n",
    "    The highest variance by any projection of the data set maps to the first axis.\n",
    "    The second biggest variance on the second axis, and so on.\n",
    "\n"
   ]
  },
  {
   "cell_type": "markdown",
   "id": "9f0e5285",
   "metadata": {},
   "source": [
    "Let´s consider 2-dim data set (mxn data matrix): data samples in columns and features in row!"
   ]
  },
  {
   "cell_type": "code",
   "execution_count": 2,
   "id": "7382bdce",
   "metadata": {},
   "outputs": [
    {
     "data": {
      "image/png": "[encoded data removed]",
      "text/plain": [
       "<Figure size 432x288 with 1 Axes>"
      ]
     },
     "metadata": {
      "needs_background": "light"
     },
     "output_type": "display_data"
    }
   ],
   "source": [
    "import matplotlib.pyplot as plt\n",
    "import numpy as np\n",
    "\n",
    "# data\n",
    "\n",
    "X = [[10,6], [11,4], [8,5], [3,3], [2,3], [1, 0.5]]\n",
    "nX = np.array(X)\n",
    "\n",
    "plt.scatter(nX[:,0], nX[:,1])\n",
    "plt.show()"
   ]
  },
  {
   "cell_type": "markdown",
   "id": "220b24a5",
   "metadata": {},
   "source": [
    "Calculate the mean of F1 and F2 to identify new center"
   ]
  },
  {
   "cell_type": "code",
   "execution_count": 3,
   "id": "067f610e",
   "metadata": {},
   "outputs": [
    {
     "data": {
      "image/png": "[encoded data removed]",
      "text/plain": [
       "<Figure size 432x288 with 1 Axes>"
      ]
     },
     "metadata": {
      "needs_background": "light"
     },
     "output_type": "display_data"
    }
   ],
   "source": [
    "# mean\n",
    "\n",
    "mD1 = np.mean(nX[:,0])\n",
    "mD2 = np.mean(nX[:,1])\n",
    "\n",
    "plt.scatter(nX[:,0], nX[:,1])\n",
    "plt.scatter(mD1, mD2)\n",
    "plt.show()"
   ]
  },
  {
   "cell_type": "code",
   "execution_count": 4,
   "id": "78924ef4",
   "metadata": {},
   "outputs": [
    {
     "data": {
      "image/png": "[encoded data removed]",
      "text/plain": [
       "<Figure size 432x288 with 1 Axes>"
      ]
     },
     "metadata": {
      "needs_background": "light"
     },
     "output_type": "display_data"
    }
   ],
   "source": [
    "#create function to center data\n",
    "center_function = lambda x: x - x.mean()\n",
    "\n",
    "#apply function to original NumPy array\n",
    "cX1 = center_function(nX[:,0])\n",
    "cX2 = center_function(nX[:,1])\n",
    "\n",
    "plt.scatter(cX1, cX2)\n",
    "plt.scatter(cX1.mean(), cX2.mean())\n",
    "plt.show()\n"
   ]
  },
  {
   "cell_type": "markdown",
   "id": "eed892f6",
   "metadata": {},
   "source": [
    "Find the line for maximizing the distances of the projected  points:"
   ]
  },
  {
   "cell_type": "code",
   "execution_count": 5,
   "id": "cddeed3b",
   "metadata": {},
   "outputs": [
    {
     "data": {
      "image/png": "[encoded data removed]",
      "text/plain": [
       "<Figure size 432x288 with 1 Axes>"
      ]
     },
     "metadata": {
      "needs_background": "light"
     },
     "output_type": "display_data"
    }
   ],
   "source": [
    "from sklearn.linear_model import LinearRegression\n",
    " \n",
    "model = LinearRegression()\n",
    "model.fit(cX1.reshape(-1,1), cX2)\n",
    "predY = model.predict(cX1.reshape(-1,1))\n",
    "\n",
    "plt.scatter(cX1, cX2)\n",
    "plt.scatter(cX1.mean(), cX2.mean())\n",
    "plt.plot(cX1, predY, color=\"red\", linewidth=3)\n",
    "plt.show()"
   ]
  },
  {
   "cell_type": "markdown",
   "id": "68587c6e",
   "metadata": {},
   "source": [
    "# An example of eigendecomposition with NumPy in PCA\n",
    "It is time to perform eigendecomposition on the covariance matrix of a real-world dataset. Here, we use the popular Iris Dataset which can be loaded with Scikit-learn’s load_iris() function and converted into a Pandas DataFrame."
   ]
  },
  {
   "cell_type": "code",
   "execution_count": 6,
   "id": "4612c27f",
   "metadata": {},
   "outputs": [
    {
     "data": {
      "text/html": [
       "<div>\n",
       "<style scoped>\n",
       "    .dataframe tbody tr th:only-of-type {\n",
       "        vertical-align: middle;\n",
       "    }\n",
       "\n",
       "    .dataframe tbody tr th {\n",
       "        vertical-align: top;\n",
       "    }\n",
       "\n",
       "    .dataframe thead th {\n",
       "        text-align: right;\n",
       "    }\n",
       "</style>\n",
       "<table border=\"1\" class=\"dataframe\">\n",
       "  <thead>\n",
       "    <tr style=\"text-align: right;\">\n",
       "      <th></th>\n",
       "      <th>sepal length (cm)</th>\n",
       "      <th>sepal width (cm)</th>\n",
       "      <th>petal length (cm)</th>\n",
       "      <th>petal width (cm)</th>\n",
       "    </tr>\n",
       "  </thead>\n",
       "  <tbody>\n",
       "    <tr>\n",
       "      <th>0</th>\n",
       "      <td>5.1</td>\n",
       "      <td>3.5</td>\n",
       "      <td>1.4</td>\n",
       "      <td>0.2</td>\n",
       "    </tr>\n",
       "    <tr>\n",
       "      <th>1</th>\n",
       "      <td>4.9</td>\n",
       "      <td>3.0</td>\n",
       "      <td>1.4</td>\n",
       "      <td>0.2</td>\n",
       "    </tr>\n",
       "    <tr>\n",
       "      <th>2</th>\n",
       "      <td>4.7</td>\n",
       "      <td>3.2</td>\n",
       "      <td>1.3</td>\n",
       "      <td>0.2</td>\n",
       "    </tr>\n",
       "    <tr>\n",
       "      <th>3</th>\n",
       "      <td>4.6</td>\n",
       "      <td>3.1</td>\n",
       "      <td>1.5</td>\n",
       "      <td>0.2</td>\n",
       "    </tr>\n",
       "    <tr>\n",
       "      <th>4</th>\n",
       "      <td>5.0</td>\n",
       "      <td>3.6</td>\n",
       "      <td>1.4</td>\n",
       "      <td>0.2</td>\n",
       "    </tr>\n",
       "  </tbody>\n",
       "</table>\n",
       "</div>"
      ],
      "text/plain": [
       "   sepal length (cm)  sepal width (cm)  petal length (cm)  petal width (cm)\n",
       "0                5.1               3.5                1.4               0.2\n",
       "1                4.9               3.0                1.4               0.2\n",
       "2                4.7               3.2                1.3               0.2\n",
       "3                4.6               3.1                1.5               0.2\n",
       "4                5.0               3.6                1.4               0.2"
      ]
     },
     "execution_count": 6,
     "metadata": {},
     "output_type": "execute_result"
    }
   ],
   "source": [
    "from sklearn.datasets import load_iris\n",
    "import pandas as pd\n",
    "\n",
    "iris = load_iris()\n",
    "data= pd.DataFrame(iris.data, columns=iris.feature_names)\n",
    "data.head()"
   ]
  },
  {
   "cell_type": "markdown",
   "id": "e531732c",
   "metadata": {},
   "source": [
    "**Data standardization**: We standardized our data and store them in a Pandas DataFrame called data_std."
   ]
  },
  {
   "cell_type": "code",
   "execution_count": 7,
   "id": "c7692c95",
   "metadata": {},
   "outputs": [
    {
     "data": {
      "text/html": [
       "<div>\n",
       "<style scoped>\n",
       "    .dataframe tbody tr th:only-of-type {\n",
       "        vertical-align: middle;\n",
       "    }\n",
       "\n",
       "    .dataframe tbody tr th {\n",
       "        vertical-align: top;\n",
       "    }\n",
       "\n",
       "    .dataframe thead th {\n",
       "        text-align: right;\n",
       "    }\n",
       "</style>\n",
       "<table border=\"1\" class=\"dataframe\">\n",
       "  <thead>\n",
       "    <tr style=\"text-align: right;\">\n",
       "      <th></th>\n",
       "      <th>sepal length (cm)</th>\n",
       "      <th>sepal width (cm)</th>\n",
       "      <th>petal length (cm)</th>\n",
       "      <th>petal width (cm)</th>\n",
       "    </tr>\n",
       "  </thead>\n",
       "  <tbody>\n",
       "    <tr>\n",
       "      <th>0</th>\n",
       "      <td>-0.900681</td>\n",
       "      <td>1.019004</td>\n",
       "      <td>-1.340227</td>\n",
       "      <td>-1.315444</td>\n",
       "    </tr>\n",
       "    <tr>\n",
       "      <th>1</th>\n",
       "      <td>-1.143017</td>\n",
       "      <td>-0.131979</td>\n",
       "      <td>-1.340227</td>\n",
       "      <td>-1.315444</td>\n",
       "    </tr>\n",
       "    <tr>\n",
       "      <th>2</th>\n",
       "      <td>-1.385353</td>\n",
       "      <td>0.328414</td>\n",
       "      <td>-1.397064</td>\n",
       "      <td>-1.315444</td>\n",
       "    </tr>\n",
       "    <tr>\n",
       "      <th>3</th>\n",
       "      <td>-1.506521</td>\n",
       "      <td>0.098217</td>\n",
       "      <td>-1.283389</td>\n",
       "      <td>-1.315444</td>\n",
       "    </tr>\n",
       "    <tr>\n",
       "      <th>4</th>\n",
       "      <td>-1.021849</td>\n",
       "      <td>1.249201</td>\n",
       "      <td>-1.340227</td>\n",
       "      <td>-1.315444</td>\n",
       "    </tr>\n",
       "  </tbody>\n",
       "</table>\n",
       "</div>"
      ],
      "text/plain": [
       "   sepal length (cm)  sepal width (cm)  petal length (cm)  petal width (cm)\n",
       "0          -0.900681          1.019004          -1.340227         -1.315444\n",
       "1          -1.143017         -0.131979          -1.340227         -1.315444\n",
       "2          -1.385353          0.328414          -1.397064         -1.315444\n",
       "3          -1.506521          0.098217          -1.283389         -1.315444\n",
       "4          -1.021849          1.249201          -1.340227         -1.315444"
      ]
     },
     "execution_count": 7,
     "metadata": {},
     "output_type": "execute_result"
    }
   ],
   "source": [
    "from sklearn.preprocessing import StandardScaler\n",
    "\n",
    "sc = StandardScaler()\n",
    "\n",
    "data_std = pd.DataFrame(sc.fit_transform(data), columns=iris.feature_names)\n",
    "data_std.head()"
   ]
  },
  {
   "cell_type": "markdown",
   "id": "b5c83ba5",
   "metadata": {},
   "source": [
    "### Computing the covariance matrix\n",
    "\n",
    "Compute the covariance matrix of the standardized data:\n",
    "\n",
    "- np.cov(data_std.T) — In this case, the covariance matrix is in the form of a NumPy array.\n",
    "- data_std.cov() — In this case, the covariance matrix is in the form of a Pandas DataFrame."
   ]
  },
  {
   "cell_type": "markdown",
   "id": "7237310c",
   "metadata": {},
   "source": [
    "### Computing eigenvalues and eigenvectors\n",
    "\n",
    "Now, we compute eigenvalues and eigenvectors of the covariance matrix by using the numpy.linalg.eig() function."
   ]
  },
  {
   "cell_type": "code",
   "execution_count": 10,
   "id": "2987b847",
   "metadata": {},
   "outputs": [
    {
     "name": "stdout",
     "output_type": "stream",
     "text": [
      "Eigenvalues\n",
      "[2.93808505 0.9201649  0.14774182 0.02085386]\n",
      "\n",
      "Eigenvectors as columns\n",
      "[[ 0.52106591 -0.37741762 -0.71956635  0.26128628]\n",
      " [-0.26934744 -0.92329566  0.24438178 -0.12350962]\n",
      " [ 0.5804131  -0.02449161  0.14212637 -0.80144925]\n",
      " [ 0.56485654 -0.06694199  0.63427274  0.52359713]]\n"
     ]
    }
   ],
   "source": [
    "import numpy as np\n",
    "\n",
    "cov_matrix = data_std.cov() #np.cov(data_std.T)\n",
    "eigen_vals, eigen_vecs = np.linalg.eig(cov_matrix)\n",
    "\n",
    "print(\"Eigenvalues\")\n",
    "print(eigen_vals)\n",
    "print()\n",
    "print(\"Eigenvectors as columns\")\n",
    "print(eigen_vecs)"
   ]
  },
  {
   "cell_type": "markdown",
   "id": "dc441e52",
   "metadata": {},
   "source": [
    "There is a total of 4 eigenpairs. This is because the Iris dataset has 4 variables. The eigenvalues are real numbers. This is because the covariance matrix is symmetric"
   ]
  },
  {
   "cell_type": "markdown",
   "id": "6948f163",
   "metadata": {},
   "source": [
    "#### Computing the sum of eigenvalues\n",
    "\n",
    "Let’s compute the sum of eigenvalues"
   ]
  },
  {
   "cell_type": "code",
   "execution_count": 11,
   "id": "8b31572b",
   "metadata": {},
   "outputs": [
    {
     "data": {
      "text/plain": [
       "4.026845637583892"
      ]
     },
     "execution_count": 11,
     "metadata": {},
     "output_type": "execute_result"
    }
   ],
   "source": [
    "np.sum(eigen_vals)"
   ]
  },
  {
   "cell_type": "markdown",
   "id": "c861ac39",
   "metadata": {},
   "source": [
    "Do our eigenpairs satisfy the Ax = λx equation?"
   ]
  },
  {
   "cell_type": "code",
   "execution_count": 12,
   "id": "c80e4e13",
   "metadata": {},
   "outputs": [
    {
     "name": "stdout",
     "output_type": "stream",
     "text": [
      "[ 1.53093597 -0.79136569  1.70530304  1.65959654]\n"
     ]
    }
   ],
   "source": [
    "A = data_std.cov()\n",
    "x = eigen_vecs[:, 0] # First eigenvector\n",
    "\n",
    "LHS = np.dot(A, x) # Ax\n",
    "print(LHS)"
   ]
  },
  {
   "cell_type": "code",
   "execution_count": 13,
   "id": "d3236f58",
   "metadata": {},
   "outputs": [
    {
     "name": "stdout",
     "output_type": "stream",
     "text": [
      "[ 1.53093597 -0.79136569  1.70530304  1.65959654]\n"
     ]
    }
   ],
   "source": [
    "lambda_eig = eigen_vals[0] # First eigenvalue\n",
    "x = eigen_vecs[:, 0] # First eigenvector\n",
    "RHS = lambda_eig * x # λx\n",
    "print(RHS)"
   ]
  },
  {
   "cell_type": "markdown",
   "id": "a058a140",
   "metadata": {},
   "source": [
    "Because of LHS = RHS, the first eigenpair satisfies the Ax = λx equation. Likewise, we can prove that the other 3 eigenpairs satisfy the same equation."
   ]
  },
  {
   "cell_type": "code",
   "execution_count": 14,
   "id": "79d074b9",
   "metadata": {},
   "outputs": [
    {
     "data": {
      "text/plain": [
       "[]"
      ]
     },
     "execution_count": 14,
     "metadata": {},
     "output_type": "execute_result"
    },
    {
     "data": {
      "image/png": "[encoded data removed]",
      "text/plain": [
       "<Figure size 432x288 with 1 Axes>"
      ]
     },
     "metadata": {
      "needs_background": "light"
     },
     "output_type": "display_data"
    }
   ],
   "source": [
    "exp_var = []\n",
    "\n",
    "for i in eigen_vals:\n",
    "  var = (i / np.sum(eigen_vals)) * 100\n",
    "  exp_var.append(var)\n",
    "\n",
    "cum_exp_var = np.cumsum(exp_var)\n",
    "\n",
    "plt.bar(range(1, 5), exp_var, align='center',\n",
    "        label='Individual explained variance')\n",
    "\n",
    "\n",
    "plt.xticks(ticks=[1, 2, 3, 4])\n",
    "plt.legend(loc='best')\n",
    "plt.tight_layout()\n",
    "\n",
    "plt.plot()"
   ]
  },
  {
   "cell_type": "markdown",
   "id": "978255a9",
   "metadata": {},
   "source": [
    "The variance captured by the first two components\n",
    "\n",
    "We can see that the first two components capture most of the variance in the original dataset. Let’s compute the amount of variance explained by the first two components. To compute this, we get the ratio (fraction) between the sum of the first two eigenvalues and the sum of all eigenvalues."
   ]
  },
  {
   "cell_type": "code",
   "execution_count": 15,
   "id": "74389014",
   "metadata": {},
   "outputs": [
    {
     "data": {
      "text/plain": [
       "0.9581320720000164"
      ]
     },
     "execution_count": 15,
     "metadata": {},
     "output_type": "execute_result"
    }
   ],
   "source": [
    "(eigen_vals[0] + eigen_vals[1]) / np.sum(eigen_vals)"
   ]
  },
  {
   "cell_type": "markdown",
   "id": "cd8aa583",
   "metadata": {},
   "source": [
    "#### Data transformation\n",
    "\n",
    "Now, we transform data. The eigenvectors represent the directions of maximum variance. Principal components (transformed data) are obtained by calculating the matrix product between the standardized data (data_std) and the eigenvector matrix (eigen_vecs)."
   ]
  },
  {
   "cell_type": "code",
   "execution_count": 22,
   "id": "745aef7a",
   "metadata": {},
   "outputs": [
    {
     "data": {
      "text/html": [
       "<div>\n",
       "<style scoped>\n",
       "    .dataframe tbody tr th:only-of-type {\n",
       "        vertical-align: middle;\n",
       "    }\n",
       "\n",
       "    .dataframe tbody tr th {\n",
       "        vertical-align: top;\n",
       "    }\n",
       "\n",
       "    .dataframe thead th {\n",
       "        text-align: right;\n",
       "    }\n",
       "</style>\n",
       "<table border=\"1\" class=\"dataframe\">\n",
       "  <thead>\n",
       "    <tr style=\"text-align: right;\">\n",
       "      <th></th>\n",
       "      <th>PC1</th>\n",
       "      <th>PC2</th>\n",
       "    </tr>\n",
       "  </thead>\n",
       "  <tbody>\n",
       "    <tr>\n",
       "      <th>0</th>\n",
       "      <td>-2.264703</td>\n",
       "      <td>-0.480027</td>\n",
       "    </tr>\n",
       "    <tr>\n",
       "      <th>1</th>\n",
       "      <td>-2.080961</td>\n",
       "      <td>0.674134</td>\n",
       "    </tr>\n",
       "    <tr>\n",
       "      <th>2</th>\n",
       "      <td>-2.364229</td>\n",
       "      <td>0.341908</td>\n",
       "    </tr>\n",
       "    <tr>\n",
       "      <th>3</th>\n",
       "      <td>-2.299384</td>\n",
       "      <td>0.597395</td>\n",
       "    </tr>\n",
       "    <tr>\n",
       "      <th>4</th>\n",
       "      <td>-2.389842</td>\n",
       "      <td>-0.646835</td>\n",
       "    </tr>\n",
       "  </tbody>\n",
       "</table>\n",
       "</div>"
      ],
      "text/plain": [
       "        PC1       PC2\n",
       "0 -2.264703 -0.480027\n",
       "1 -2.080961  0.674134\n",
       "2 -2.364229  0.341908\n",
       "3 -2.299384  0.597395\n",
       "4 -2.389842 -0.646835"
      ]
     },
     "execution_count": 22,
     "metadata": {},
     "output_type": "execute_result"
    }
   ],
   "source": [
    "np.dot(data_std, eigen_vecs)\n",
    "pd.DataFrame(np.dot(data_std, eigen_vecs)[0:5, 0:2],\n",
    "             columns=['PC1', 'PC2'])"
   ]
  },
  {
   "cell_type": "markdown",
   "id": "c27eb576",
   "metadata": {},
   "source": [
    "## Performing PCA with Scikit-learn"
   ]
  },
  {
   "cell_type": "code",
   "execution_count": 21,
   "id": "353a9146",
   "metadata": {},
   "outputs": [
    {
     "name": "stdout",
     "output_type": "stream",
     "text": [
      "[2.93808505 0.9201649  0.14774182 0.02085386]\n"
     ]
    },
    {
     "data": {
      "text/html": [
       "<div>\n",
       "<style scoped>\n",
       "    .dataframe tbody tr th:only-of-type {\n",
       "        vertical-align: middle;\n",
       "    }\n",
       "\n",
       "    .dataframe tbody tr th {\n",
       "        vertical-align: top;\n",
       "    }\n",
       "\n",
       "    .dataframe thead th {\n",
       "        text-align: right;\n",
       "    }\n",
       "</style>\n",
       "<table border=\"1\" class=\"dataframe\">\n",
       "  <thead>\n",
       "    <tr style=\"text-align: right;\">\n",
       "      <th></th>\n",
       "      <th>PC1</th>\n",
       "      <th>PC2</th>\n",
       "    </tr>\n",
       "  </thead>\n",
       "  <tbody>\n",
       "    <tr>\n",
       "      <th>0</th>\n",
       "      <td>-2.264703</td>\n",
       "      <td>0.480027</td>\n",
       "    </tr>\n",
       "    <tr>\n",
       "      <th>1</th>\n",
       "      <td>-2.080961</td>\n",
       "      <td>-0.674134</td>\n",
       "    </tr>\n",
       "    <tr>\n",
       "      <th>2</th>\n",
       "      <td>-2.364229</td>\n",
       "      <td>-0.341908</td>\n",
       "    </tr>\n",
       "    <tr>\n",
       "      <th>3</th>\n",
       "      <td>-2.299384</td>\n",
       "      <td>-0.597395</td>\n",
       "    </tr>\n",
       "    <tr>\n",
       "      <th>4</th>\n",
       "      <td>-2.389842</td>\n",
       "      <td>0.646835</td>\n",
       "    </tr>\n",
       "  </tbody>\n",
       "</table>\n",
       "</div>"
      ],
      "text/plain": [
       "        PC1       PC2\n",
       "0 -2.264703  0.480027\n",
       "1 -2.080961 -0.674134\n",
       "2 -2.364229 -0.341908\n",
       "3 -2.299384 -0.597395\n",
       "4 -2.389842  0.646835"
      ]
     },
     "execution_count": 21,
     "metadata": {},
     "output_type": "execute_result"
    }
   ],
   "source": [
    "from sklearn.decomposition import PCA\n",
    "\n",
    "pca = PCA(n_components=None)\n",
    "pca.fit(data_std)\n",
    "print(pca.explained_variance_)\n",
    "\n",
    "pca = PCA(n_components=2)\n",
    "data_pca = pd.DataFrame(pca.fit_transform(data_std), \n",
    "             columns=['PC1', 'PC2'])\n",
    "\n",
    "data_pca.head()"
   ]
  },
  {
   "cell_type": "code",
   "execution_count": null,
   "id": "d870272a",
   "metadata": {},
   "outputs": [],
   "source": []
  }
 ],
 "metadata": {
  "kernelspec": {
   "display_name": "Python 3 (ipykernel)",
   "language": "python",
   "name": "python3"
  },
  "language_info": {
   "codemirror_mode": {
    "name": "ipython",
    "version": 3
   },
   "file_extension": ".py",
   "mimetype": "text/x-python",
   "name": "python",
   "nbconvert_exporter": "python",
   "pygments_lexer": "ipython3",
   "version": "3.9.12"
  }
 },
 "nbformat": 4,
 "nbformat_minor": 5
}
