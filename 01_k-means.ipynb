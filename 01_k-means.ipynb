{
 "cells": [
  {
   "cell_type": "markdown",
   "metadata": {},
   "source": [
    "Exercises and code samples for the course **Unsupervised and Reinforcement Learning (AAI-URL)** in the Bachelor of AAI at Rosenheim University of Applied Sciences."
   ]
  },
  {
   "cell_type": "markdown",
   "metadata": {
    "collapsed": true,
    "jupyter": {
     "outputs_hidden": true
    }
   },
   "source": [
    "# k-means\n",
    "\n",
    "In this tutorial, we're going to be building our own **k-means** algorithm from scratch. \n",
    "\n",
    "Recall the methodology for the k-means algorithm:\n",
    "\n",
    "1. Choose value for # of clusters K\n",
    "2. Randomly select K to start as your centroids\n",
    "3. Calculate distance of all other values to centroids\n",
    "4. Classify other values to closest centroid\n",
    "5. Take mean of each class (mean of all value by class), making that mean the new centroid\n",
    "6. Repeat steps 3-5 until optimized (centroids no longer moving)"
   ]
  },
  {
   "cell_type": "markdown",
   "metadata": {},
   "source": [
    "## 1. Simple Approach\n",
    "\n",
    "With this approach we try to cluster points in a given list X into two cluster C1 and C2.\n",
    "\n",
    "X=[[0,0], [0,1], [-1,2], [2,0], [3,0], [4,-1], [5,2], [0,-1], [6,3]]\n"
   ]
  },
  {
   "cell_type": "markdown",
   "metadata": {},
   "source": [
    "Just a simple helper function to calculate the distance and to pick randomly centroids:"
   ]
  },
  {
   "cell_type": "code",
   "execution_count": 3,
   "metadata": {},
   "outputs": [],
   "source": [
    "import random as rnd\n",
    "\n",
    "''' \n",
    "a distance function \n",
    "'''\n",
    "def euclidean_distance(X,Y):\n",
    "    l = list(zip(X,Y))\n",
    "    r = sum([abs(x-y)**2 for x,y in l])\n",
    "    return r\n",
    "\n",
    "''' \n",
    "Randomly select K to start as your centroids \n",
    "'''\n",
    "def pick_centroids(X):\n",
    "    c1 = X[rnd.randint(0,len(X)-1)]\n",
    "    c2 = X[rnd.randint(0,len(X))-1]       \n",
    "    return c1,c2"
   ]
  },
  {
   "cell_type": "markdown",
   "metadata": {},
   "source": [
    "This functions simply decides on putting points to which cluster"
   ]
  },
  {
   "cell_type": "code",
   "execution_count": 4,
   "metadata": {},
   "outputs": [],
   "source": [
    "''' \n",
    "Calculate distance of all other values to centroids and classify other values to closest centroid \n",
    "'''\n",
    "def clustering(C1, C2, X, dist):\n",
    "    cluster1=[]\n",
    "    cluster2=[]\n",
    "    for i in X:\n",
    "            if dist(C1,i) < dist(C2,i):\n",
    "                cluster1.append(i)\n",
    "            else:\n",
    "                cluster2.append(i)\n",
    "    return cluster1, cluster2"
   ]
  },
  {
   "cell_type": "markdown",
   "metadata": {},
   "source": [
    "Find new centroids:"
   ]
  },
  {
   "cell_type": "code",
   "execution_count": 5,
   "metadata": {},
   "outputs": [],
   "source": [
    "''' Take mean of each class (mean of all value by class), making that mean the new centroid '''\n",
    "def recenter(X):\n",
    "    r = [0,0]\n",
    "    for j in X:\n",
    "        r[0] += j[0]\n",
    "        r[1] += j[1]\n",
    "    r[0]=r[0]/len(X)\n",
    "    r[1]=r[1]/len(X)\n",
    "    return r"
   ]
  },
  {
   "cell_type": "markdown",
   "metadata": {},
   "source": [
    "Now, lets run everything:"
   ]
  },
  {
   "cell_type": "code",
   "execution_count": 14,
   "metadata": {},
   "outputs": [
    {
     "name": "stdout",
     "output_type": "stream",
     "text": [
      "Starting centroids C1, C2; ([2, 0], [6, 3])\n",
      "Final centroids C1, C2; ([1.1428571428571428, 0.14285714285714285], [5.5, 2.5])\n",
      "Cluster 1: [[0, 0], [0, 1], [-1, 2], [2, 0], [3, 0], [4, -1], [0, -1]]\n",
      "Cluster 2: [[5, 2], [6, 3]]\n"
     ]
    }
   ],
   "source": [
    "\n",
    "X=[[0,0], [0,1], [-1,2], [2,0], [3,0], [4,-1], [5,2], [0,-1], [6,3]]\n",
    "\n",
    "# pick randomly centroids\n",
    "C1, C2 = pick_centroids(X)\n",
    "print(f'Starting centroids C1, C2; {C1, C2}')\n",
    "\n",
    "# run until there is no change anymore\n",
    "while True:\n",
    "    cl1,cl2 = clustering(C1,C2,X, euclidean_distance)\n",
    "    old_C1 = C1\n",
    "    old_C2 = C2\n",
    "    C1 = recenter(cl1)\n",
    "    C2 = recenter(cl2)\n",
    "    if euclidean_distance(old_C1, C1)==0:\n",
    "        break\n",
    "\n",
    "# output the results\n",
    "print(f'Final centroids C1, C2; {C1, C2}')\n",
    "print(f'Cluster 1: {cl1}')\n",
    "print(f'Cluster 2: {cl2}')"
   ]
  },
  {
   "cell_type": "code",
   "execution_count": 13,
   "metadata": {},
   "outputs": [
    {
     "name": "stdout",
     "output_type": "stream",
     "text": [
      "[ 0  1  2 -1]\n"
     ]
    }
   ],
   "source": [
    "\n",
    "CL1 = np.asarray(cl1)\n",
    "print(CL1[:,1])"
   ]
  },
  {
   "cell_type": "markdown",
   "metadata": {},
   "source": [
    "Simple visualisation:"
   ]
  },
  {
   "cell_type": "code",
   "execution_count": 15,
   "metadata": {},
   "outputs": [
    {
     "data": {
      "image/png": "[encoded data removed]",
      "text/plain": [
       "<Figure size 640x480 with 1 Axes>"
      ]
     },
     "metadata": {},
     "output_type": "display_data"
    }
   ],
   "source": [
    "import matplotlib.pyplot as plt\n",
    "import numpy as np\n",
    "\n",
    "CL1 = np.asarray(cl1)\n",
    "CL2 = np.asarray(cl2)\n",
    "\n",
    "plt.scatter(CL1[:,0], CL1[:,1], s=150)\n",
    "plt.scatter(CL2[:,0], CL2[:,1], s=150)\n",
    "\n",
    "plt.scatter(C1[0], C1[1], marker=\"x\", color=\"k\", s=150, linewidths=3)\n",
    "plt.scatter(C2[0], C2[1], marker=\"x\", color=\"k\", s=150, linewidths=3)\n",
    "\n",
    "plt.show()"
   ]
  },
  {
   "cell_type": "markdown",
   "metadata": {},
   "source": [
    "## 2. More Advanced\n",
    "\n",
    "In this example we try to come up with a class K_Means whcih can find more than 2 centroids."
   ]
  },
  {
   "cell_type": "code",
   "execution_count": 14,
   "metadata": {},
   "outputs": [
    {
     "data": {
      "image/png": "[encoded data removed]",
      "text/plain": [
       "<Figure size 640x480 with 1 Axes>"
      ]
     },
     "metadata": {},
     "output_type": "display_data"
    }
   ],
   "source": [
    "import matplotlib.pyplot as plt\n",
    "import numpy as np\n",
    "\n",
    "\n",
    "X = np.array([[1, 2],\n",
    "              [1.5, 1.8],\n",
    "              [5, 8 ],\n",
    "              [8, 8],\n",
    "              [1, 0.6],\n",
    "              [9,11]])\n",
    "\n",
    "plt.scatter(X[:,0], X[:,1], s=150)\n",
    "plt.show()"
   ]
  },
  {
   "cell_type": "markdown",
   "metadata": {},
   "source": [
    "It should be obvious where our clusters are.\n",
    "\n",
    "We're going to be choosing **k=2**. :-)\n",
    "\n",
    "\n",
    "\n",
    "### K-Means class\n",
    "\n",
    "We just set up some starting values here:\n",
    "\n",
    "- _k_   : # of clusters\n",
    "- _tol_ : is the tolerance, which will allow us to say we're optimized if the centroid is not moving more than the tolerance value\n",
    "- _n_   : value is to limit the number of cycles we're willing to run\n",
    "\n",
    "```python\n",
    "    class K_Means:\n",
    "        def __init__(self, k=2, tol=0.001, n=300):\n",
    "            self.k   = k\n",
    "            self.tol = tol\n",
    "            self.n   = n\n",
    "```\n",
    "\n",
    "To begin, we know we just need to pass whatever data we're fitting to. We then begin an empty dictionary for our centroids.\n",
    "Next, we begin a for loop which simply assigns our starting centroids as the first two data samples in our data. If you wanted to truly select randomly the starting centroids, you could first shuffle the data, but this should be fine.\n",
    "\n",
    "\n",
    "```python\n",
    "    def fit(self,data):\n",
    "\n",
    "        self.centroids = {}\n",
    "\n",
    "        for i in range(self.k):\n",
    "            self.centroids[i] = data[i]\n",
    "\n",
    "\n",
    "```\n",
    "\n",
    "We start with empty classifications, and then create two dict keys (by iterating through range of self.k).\n",
    "\n",
    "Next, we need to iterate through our values, calculate distances of the values to the current centroids, and classify them as such:\n",
    "\n",
    "\n",
    "```python\n",
    "        for i in range(self.n):\n",
    "            self.classifications = {}\n",
    "\n",
    "            for i in range(self.k):\n",
    "                self.classifications[i] = []\n",
    "                \n",
    "            for value in data:\n",
    "                distances = [np.linalg.norm(value-self.centroids[centroid]) for centroid in self.centroids]\n",
    "                classification = distances.index(min(distances))\n",
    "                self.classifications[classification].append(value)\n",
    "```\n",
    "\n",
    "Next, we're going to need to create the new centroids, as well as measuring the movement of the centroids. If that movement is less than our tolerance (self.tol), then we're all set. Including that addition, full code up to this point:\n",
    "\n",
    "```python\n",
    "            prev_centroids = dict(self.centroids)\n",
    "\n",
    "            for classification in self.classifications:\n",
    "                self.centroids[classification] = np.average(self.classifications[classification],axis=0)   \n",
    "```\n",
    "\n",
    "Now that we have new centroids, and knowledge of the previous centroids, we're curious if we're optimized yet. Easy enough, we will add the following to the end of the fit method:\n",
    "\n",
    "\n",
    "```python\n",
    "            optimized = True\n",
    "\n",
    "            for c in self.centroids:\n",
    "                original_centroid = prev_centroids[c]\n",
    "                current_centroid = self.centroids[c]\n",
    "                if np.sum((current_centroid-original_centroid)/original_centroid*100.0) > self.tol:\n",
    "                    print(np.sum((current_centroid-original_centroid)/original_centroid*100.0))\n",
    "                    optimized = False\n",
    "```\n",
    "\n",
    "We start off assuming we are optimized. We then take all of the centroids, and compare them to the previous centroids. If they are within our required tolerance, then we're happy. If not, then we set optimized to False and we continue in our for for i in range(self.max_iter): loop. If we are optimized?\n",
    "\n",
    "        \n",
    "The entire k-means class looks like this:"
   ]
  },
  {
   "cell_type": "code",
   "execution_count": 15,
   "metadata": {},
   "outputs": [],
   "source": [
    "\n",
    "class K_Means:\n",
    "    def __init__(self, k=2, tol=0.001, n=300):\n",
    "        self.k   = k\n",
    "        self.tol = tol\n",
    "        self.n   = n\n",
    "\n",
    "    def euclidean_distance(self, X,Y):\n",
    "        return (np.sum((X-Y)**2))**0.5\n",
    "\n",
    "    def fit(self,data):\n",
    "\n",
    "        self.centroids = {}\n",
    "\n",
    "        for i in range(self.k):\n",
    "            self.centroids[i] = data[i]\n",
    "\n",
    "        for i in range(self.n):\n",
    "            self.classifications = {}\n",
    "\n",
    "            for i in range(self.k):\n",
    "                self.classifications[i] = []\n",
    "\n",
    "            for value in data:\n",
    "                # use euclidean_distance or np.linalg.norm\n",
    "                distances = [self.euclidean_distance(value, self.centroids[centroid]) for centroid in self.centroids]\n",
    "                classification = distances.index(min(distances))\n",
    "                self.classifications[classification].append(value)\n",
    "\n",
    "            prev_centroids = dict(self.centroids)\n",
    "\n",
    "            for classification in self.classifications:\n",
    "                self.centroids[classification] = np.average(self.classifications[classification],axis=0)\n",
    "\n",
    "            optimized = True\n",
    "\n",
    "            for c in self.centroids:\n",
    "                original_centroid = prev_centroids[c]\n",
    "                current_centroid = self.centroids[c]\n",
    "                if np.sum((current_centroid-original_centroid)/original_centroid*100.0) > self.tol:\n",
    "                    optimized = False\n",
    "\n",
    "            if optimized:\n",
    "                break\n",
    "                \n",
    "    def plot(self):\n",
    "        colors = 10*[\"g\",\"r\",\"c\",\"b\",\"k\"]\n",
    "\n",
    "        #plot centroids\n",
    "        for centroid in self.centroids:\n",
    "            plt.scatter(self.centroids[centroid][0], self.centroids[centroid][1], marker=\"o\", color=\"k\", s=150, linewidths=3)\n",
    "\n",
    "        # plot smaples\n",
    "        for classification in self.classifications:\n",
    "            color = colors[classification]\n",
    "            for value in self.classifications[classification]:\n",
    "                plt.scatter(value[0], value[1], marker=\"x\", color=color, s=150, linewidths=3)\n",
    "        \n",
    "        plt.show()"
   ]
  },
  {
   "cell_type": "markdown",
   "metadata": {},
   "source": [
    "Now we can do something like:"
   ]
  },
  {
   "cell_type": "code",
   "execution_count": 17,
   "metadata": {},
   "outputs": [
    {
     "data": {
      "image/png": "[encoded data removed]",
      "text/plain": [
       "<Figure size 640x480 with 1 Axes>"
      ]
     },
     "metadata": {},
     "output_type": "display_data"
    },
    {
     "name": "stdout",
     "output_type": "stream",
     "text": [
      "{0: array([1.16666667, 1.46666667]), 1: array([7.33333333, 9.        ])}\n"
     ]
    }
   ],
   "source": [
    "# see K_Means in action\n",
    "clf = K_Means(k=2)\n",
    "clf.fit(X)\n",
    "clf.plot()\n",
    "print(clf.centroids)"
   ]
  },
  {
   "cell_type": "markdown",
   "metadata": {},
   "source": [
    "What if we took new values and add them to the original dataset? \n",
    "\n",
    "That would move the centroids, and would it possibly mean new classifications for any of the data?\n",
    "\n",
    "X = np.array([[1, 2],\n",
    "              [1.5, 1.8],\n",
    "              [5, 8 ],\n",
    "              [8, 8],\n",
    "              [1, 0.6],\n",
    "              [9,11]])"
   ]
  },
  {
   "cell_type": "code",
   "execution_count": 18,
   "metadata": {},
   "outputs": [
    {
     "data": {
      "image/png": "[encoded data removed]",
      "text/plain": [
       "<Figure size 640x480 with 1 Axes>"
      ]
     },
     "metadata": {},
     "output_type": "display_data"
    },
    {
     "name": "stdout",
     "output_type": "stream",
     "text": [
      "{0: array([0.9 , 2.08]), 1: array([6.83333333, 7.33333333])}\n"
     ]
    }
   ],
   "source": [
    "\n",
    "X = np.array([[1, 2],\n",
    "              [1.5, 1.8],\n",
    "              [5, 8 ],\n",
    "              [8, 8],\n",
    "              [1, 0.6],\n",
    "              [9,11],\n",
    "              [1,3],\n",
    "              [8,9],\n",
    "              [0,3],\n",
    "              [5,4],\n",
    "              [6,4],])\n",
    "\n",
    "clf = K_Means()\n",
    "clf.fit(X)\n",
    "clf.plot()\n",
    "print(clf.centroids)"
   ]
  },
  {
   "cell_type": "code",
   "execution_count": null,
   "metadata": {},
   "outputs": [],
   "source": []
  }
 ],
 "metadata": {
  "kernelspec": {
   "display_name": "Python 3 (ipykernel)",
   "language": "python",
   "name": "python3"
  },
  "language_info": {
   "codemirror_mode": {
    "name": "ipython",
    "version": 3
   },
   "file_extension": ".py",
   "mimetype": "text/x-python",
   "name": "python",
   "nbconvert_exporter": "python",
   "pygments_lexer": "ipython3",
   "version": "3.9.6"
  }
 },
 "nbformat": 4,
 "nbformat_minor": 4
}
